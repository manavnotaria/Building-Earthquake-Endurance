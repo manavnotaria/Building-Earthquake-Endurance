{
 "cells": [
  {
   "cell_type": "markdown",
   "id": "08448028",
   "metadata": {},
   "source": [
    "# MA0218: Introduction to Data Science and Artificial Intelligence\n",
    "\n",
    "## Problem: Which factors affect the severity of the damage of a building after an earthquake?\n",
    "\n",
    "Team Name: Data Newbies\n",
    "\n",
    "Lecturer: Lim Zhi Jun\n",
    "\n",
    "\n",
    "\n",
    "Team Members and Contribution:\n",
    "\n",
    "Lee Yi Feng : Data Cleaning and Preparation\n",
    "\n",
    "Notaria Manav Baiju : Decision Tree\n",
    "\n",
    "Dihan Jannatan Mutaalim : KNN\n",
    "\n",
    "Riasa Fadhilla Martono : Random Forest\n",
    "\n",
    "\n",
    "Tutorial Group: MA10"
   ]
  },
  {
   "cell_type": "markdown",
   "id": "b5b6f422",
   "metadata": {},
   "source": [
    "Basic Libraries:"
   ]
  },
  {
   "cell_type": "code",
   "execution_count": 109,
   "id": "6105a46e",
   "metadata": {},
   "outputs": [],
   "source": [
    "import numpy as np\n",
    "import pandas as pd\n",
    "import seaborn as sb\n",
    "import matplotlib.pyplot as plt\n",
    "from sklearn.linear_model import LinearRegression\n",
    "from sklearn.metrics import mean_squared_error\n",
    "from sklearn.tree import DecisionTreeClassifier\n",
    "from sklearn.metrics import confusion_matrix\n",
    "from sklearn.tree import plot_tree\n",
    "import warnings\n",
    "warnings.filterwarnings('ignore')"
   ]
  },
  {
   "cell_type": "markdown",
   "id": "b07230fa",
   "metadata": {},
   "source": [
    "# Data Cleaning and Preparation"
   ]
  },
  {
   "cell_type": "markdown",
   "id": "036a0979",
   "metadata": {},
   "source": [
    "### Response Variable Data Insight"
   ]
  },
  {
   "cell_type": "code",
   "execution_count": 110,
   "id": "f218e787",
   "metadata": {},
   "outputs": [
    {
     "data": {
      "text/html": [
       "<div>\n",
       "<style scoped>\n",
       "    .dataframe tbody tr th:only-of-type {\n",
       "        vertical-align: middle;\n",
       "    }\n",
       "\n",
       "    .dataframe tbody tr th {\n",
       "        vertical-align: top;\n",
       "    }\n",
       "\n",
       "    .dataframe thead th {\n",
       "        text-align: right;\n",
       "    }\n",
       "</style>\n",
       "<table border=\"1\" class=\"dataframe\">\n",
       "  <thead>\n",
       "    <tr style=\"text-align: right;\">\n",
       "      <th></th>\n",
       "      <th>building_id</th>\n",
       "      <th>damage_grade</th>\n",
       "    </tr>\n",
       "  </thead>\n",
       "  <tbody>\n",
       "    <tr>\n",
       "      <th>0</th>\n",
       "      <td>802906</td>\n",
       "      <td>3</td>\n",
       "    </tr>\n",
       "    <tr>\n",
       "      <th>1</th>\n",
       "      <td>28830</td>\n",
       "      <td>2</td>\n",
       "    </tr>\n",
       "    <tr>\n",
       "      <th>2</th>\n",
       "      <td>94947</td>\n",
       "      <td>3</td>\n",
       "    </tr>\n",
       "    <tr>\n",
       "      <th>3</th>\n",
       "      <td>590882</td>\n",
       "      <td>2</td>\n",
       "    </tr>\n",
       "    <tr>\n",
       "      <th>4</th>\n",
       "      <td>201944</td>\n",
       "      <td>3</td>\n",
       "    </tr>\n",
       "  </tbody>\n",
       "</table>\n",
       "</div>"
      ],
      "text/plain": [
       "   building_id  damage_grade\n",
       "0       802906             3\n",
       "1        28830             2\n",
       "2        94947             3\n",
       "3       590882             2\n",
       "4       201944             3"
      ]
     },
     "execution_count": 110,
     "metadata": {},
     "output_type": "execute_result"
    }
   ],
   "source": [
    "bdg_labels = pd.read_csv('train_labels.csv')\n",
    "bdg_labels.head()"
   ]
  },
  {
   "cell_type": "code",
   "execution_count": 111,
   "id": "d703e530",
   "metadata": {},
   "outputs": [
    {
     "name": "stdout",
     "output_type": "stream",
     "text": [
      "<class 'pandas.core.frame.DataFrame'>\n",
      "RangeIndex: 260601 entries, 0 to 260600\n",
      "Data columns (total 2 columns):\n",
      " #   Column        Non-Null Count   Dtype\n",
      "---  ------        --------------   -----\n",
      " 0   building_id   260601 non-null  int64\n",
      " 1   damage_grade  260601 non-null  int64\n",
      "dtypes: int64(2)\n",
      "memory usage: 4.0 MB\n"
     ]
    }
   ],
   "source": [
    "bdg_labels.info()"
   ]
  },
  {
   "cell_type": "code",
   "execution_count": 112,
   "id": "0b8f835d",
   "metadata": {},
   "outputs": [
    {
     "data": {
      "text/plain": [
       "0         3\n",
       "1         2\n",
       "2         3\n",
       "3         2\n",
       "4         3\n",
       "         ..\n",
       "260596    2\n",
       "260597    3\n",
       "260598    3\n",
       "260599    2\n",
       "260600    3\n",
       "Name: damage_grade, Length: 260601, dtype: int64"
      ]
     },
     "execution_count": 112,
     "metadata": {},
     "output_type": "execute_result"
    }
   ],
   "source": [
    "damage_grade = bdg_labels[\"damage_grade\"]\n",
    "damage_grade"
   ]
  },
  {
   "cell_type": "markdown",
   "id": "08077cc6",
   "metadata": {},
   "source": [
    "### Predictors Variable Data Insight"
   ]
  },
  {
   "cell_type": "code",
   "execution_count": 113,
   "id": "2fe46755",
   "metadata": {},
   "outputs": [
    {
     "data": {
      "text/html": [
       "<div>\n",
       "<style scoped>\n",
       "    .dataframe tbody tr th:only-of-type {\n",
       "        vertical-align: middle;\n",
       "    }\n",
       "\n",
       "    .dataframe tbody tr th {\n",
       "        vertical-align: top;\n",
       "    }\n",
       "\n",
       "    .dataframe thead th {\n",
       "        text-align: right;\n",
       "    }\n",
       "</style>\n",
       "<table border=\"1\" class=\"dataframe\">\n",
       "  <thead>\n",
       "    <tr style=\"text-align: right;\">\n",
       "      <th></th>\n",
       "      <th>building_id</th>\n",
       "      <th>geo_level_1_id</th>\n",
       "      <th>geo_level_2_id</th>\n",
       "      <th>geo_level_3_id</th>\n",
       "      <th>count_floors_pre_eq</th>\n",
       "      <th>age</th>\n",
       "      <th>area_percentage</th>\n",
       "      <th>height_percentage</th>\n",
       "      <th>land_surface_condition</th>\n",
       "      <th>foundation_type</th>\n",
       "      <th>...</th>\n",
       "      <th>has_secondary_use_agriculture</th>\n",
       "      <th>has_secondary_use_hotel</th>\n",
       "      <th>has_secondary_use_rental</th>\n",
       "      <th>has_secondary_use_institution</th>\n",
       "      <th>has_secondary_use_school</th>\n",
       "      <th>has_secondary_use_industry</th>\n",
       "      <th>has_secondary_use_health_post</th>\n",
       "      <th>has_secondary_use_gov_office</th>\n",
       "      <th>has_secondary_use_use_police</th>\n",
       "      <th>has_secondary_use_other</th>\n",
       "    </tr>\n",
       "  </thead>\n",
       "  <tbody>\n",
       "    <tr>\n",
       "      <th>0</th>\n",
       "      <td>802906</td>\n",
       "      <td>6</td>\n",
       "      <td>487</td>\n",
       "      <td>12198</td>\n",
       "      <td>2</td>\n",
       "      <td>30</td>\n",
       "      <td>6</td>\n",
       "      <td>5</td>\n",
       "      <td>t</td>\n",
       "      <td>r</td>\n",
       "      <td>...</td>\n",
       "      <td>0</td>\n",
       "      <td>0</td>\n",
       "      <td>0</td>\n",
       "      <td>0</td>\n",
       "      <td>0</td>\n",
       "      <td>0</td>\n",
       "      <td>0</td>\n",
       "      <td>0</td>\n",
       "      <td>0</td>\n",
       "      <td>0</td>\n",
       "    </tr>\n",
       "    <tr>\n",
       "      <th>1</th>\n",
       "      <td>28830</td>\n",
       "      <td>8</td>\n",
       "      <td>900</td>\n",
       "      <td>2812</td>\n",
       "      <td>2</td>\n",
       "      <td>10</td>\n",
       "      <td>8</td>\n",
       "      <td>7</td>\n",
       "      <td>o</td>\n",
       "      <td>r</td>\n",
       "      <td>...</td>\n",
       "      <td>0</td>\n",
       "      <td>0</td>\n",
       "      <td>0</td>\n",
       "      <td>0</td>\n",
       "      <td>0</td>\n",
       "      <td>0</td>\n",
       "      <td>0</td>\n",
       "      <td>0</td>\n",
       "      <td>0</td>\n",
       "      <td>0</td>\n",
       "    </tr>\n",
       "    <tr>\n",
       "      <th>2</th>\n",
       "      <td>94947</td>\n",
       "      <td>21</td>\n",
       "      <td>363</td>\n",
       "      <td>8973</td>\n",
       "      <td>2</td>\n",
       "      <td>10</td>\n",
       "      <td>5</td>\n",
       "      <td>5</td>\n",
       "      <td>t</td>\n",
       "      <td>r</td>\n",
       "      <td>...</td>\n",
       "      <td>0</td>\n",
       "      <td>0</td>\n",
       "      <td>0</td>\n",
       "      <td>0</td>\n",
       "      <td>0</td>\n",
       "      <td>0</td>\n",
       "      <td>0</td>\n",
       "      <td>0</td>\n",
       "      <td>0</td>\n",
       "      <td>0</td>\n",
       "    </tr>\n",
       "    <tr>\n",
       "      <th>3</th>\n",
       "      <td>590882</td>\n",
       "      <td>22</td>\n",
       "      <td>418</td>\n",
       "      <td>10694</td>\n",
       "      <td>2</td>\n",
       "      <td>10</td>\n",
       "      <td>6</td>\n",
       "      <td>5</td>\n",
       "      <td>t</td>\n",
       "      <td>r</td>\n",
       "      <td>...</td>\n",
       "      <td>0</td>\n",
       "      <td>0</td>\n",
       "      <td>0</td>\n",
       "      <td>0</td>\n",
       "      <td>0</td>\n",
       "      <td>0</td>\n",
       "      <td>0</td>\n",
       "      <td>0</td>\n",
       "      <td>0</td>\n",
       "      <td>0</td>\n",
       "    </tr>\n",
       "    <tr>\n",
       "      <th>4</th>\n",
       "      <td>201944</td>\n",
       "      <td>11</td>\n",
       "      <td>131</td>\n",
       "      <td>1488</td>\n",
       "      <td>3</td>\n",
       "      <td>30</td>\n",
       "      <td>8</td>\n",
       "      <td>9</td>\n",
       "      <td>t</td>\n",
       "      <td>r</td>\n",
       "      <td>...</td>\n",
       "      <td>0</td>\n",
       "      <td>0</td>\n",
       "      <td>0</td>\n",
       "      <td>0</td>\n",
       "      <td>0</td>\n",
       "      <td>0</td>\n",
       "      <td>0</td>\n",
       "      <td>0</td>\n",
       "      <td>0</td>\n",
       "      <td>0</td>\n",
       "    </tr>\n",
       "  </tbody>\n",
       "</table>\n",
       "<p>5 rows × 39 columns</p>\n",
       "</div>"
      ],
      "text/plain": [
       "   building_id  geo_level_1_id  geo_level_2_id  geo_level_3_id  \\\n",
       "0       802906               6             487           12198   \n",
       "1        28830               8             900            2812   \n",
       "2        94947              21             363            8973   \n",
       "3       590882              22             418           10694   \n",
       "4       201944              11             131            1488   \n",
       "\n",
       "   count_floors_pre_eq  age  area_percentage  height_percentage  \\\n",
       "0                    2   30                6                  5   \n",
       "1                    2   10                8                  7   \n",
       "2                    2   10                5                  5   \n",
       "3                    2   10                6                  5   \n",
       "4                    3   30                8                  9   \n",
       "\n",
       "  land_surface_condition foundation_type  ... has_secondary_use_agriculture  \\\n",
       "0                      t               r  ...                             0   \n",
       "1                      o               r  ...                             0   \n",
       "2                      t               r  ...                             0   \n",
       "3                      t               r  ...                             0   \n",
       "4                      t               r  ...                             0   \n",
       "\n",
       "  has_secondary_use_hotel has_secondary_use_rental  \\\n",
       "0                       0                        0   \n",
       "1                       0                        0   \n",
       "2                       0                        0   \n",
       "3                       0                        0   \n",
       "4                       0                        0   \n",
       "\n",
       "  has_secondary_use_institution has_secondary_use_school  \\\n",
       "0                             0                        0   \n",
       "1                             0                        0   \n",
       "2                             0                        0   \n",
       "3                             0                        0   \n",
       "4                             0                        0   \n",
       "\n",
       "   has_secondary_use_industry  has_secondary_use_health_post  \\\n",
       "0                           0                              0   \n",
       "1                           0                              0   \n",
       "2                           0                              0   \n",
       "3                           0                              0   \n",
       "4                           0                              0   \n",
       "\n",
       "   has_secondary_use_gov_office  has_secondary_use_use_police  \\\n",
       "0                             0                             0   \n",
       "1                             0                             0   \n",
       "2                             0                             0   \n",
       "3                             0                             0   \n",
       "4                             0                             0   \n",
       "\n",
       "   has_secondary_use_other  \n",
       "0                        0  \n",
       "1                        0  \n",
       "2                        0  \n",
       "3                        0  \n",
       "4                        0  \n",
       "\n",
       "[5 rows x 39 columns]"
      ]
     },
     "execution_count": 113,
     "metadata": {},
     "output_type": "execute_result"
    }
   ],
   "source": [
    "bdg_data = pd.read_csv('train_values.csv')\n",
    "bdg_data.head()"
   ]
  },
  {
   "cell_type": "code",
   "execution_count": 114,
   "id": "3c32e505",
   "metadata": {},
   "outputs": [
    {
     "name": "stdout",
     "output_type": "stream",
     "text": [
      "<class 'pandas.core.frame.DataFrame'>\n",
      "RangeIndex: 260601 entries, 0 to 260600\n",
      "Data columns (total 39 columns):\n",
      " #   Column                                  Non-Null Count   Dtype \n",
      "---  ------                                  --------------   ----- \n",
      " 0   building_id                             260601 non-null  int64 \n",
      " 1   geo_level_1_id                          260601 non-null  int64 \n",
      " 2   geo_level_2_id                          260601 non-null  int64 \n",
      " 3   geo_level_3_id                          260601 non-null  int64 \n",
      " 4   count_floors_pre_eq                     260601 non-null  int64 \n",
      " 5   age                                     260601 non-null  int64 \n",
      " 6   area_percentage                         260601 non-null  int64 \n",
      " 7   height_percentage                       260601 non-null  int64 \n",
      " 8   land_surface_condition                  260601 non-null  object\n",
      " 9   foundation_type                         260601 non-null  object\n",
      " 10  roof_type                               260601 non-null  object\n",
      " 11  ground_floor_type                       260601 non-null  object\n",
      " 12  other_floor_type                        260601 non-null  object\n",
      " 13  position                                260601 non-null  object\n",
      " 14  plan_configuration                      260601 non-null  object\n",
      " 15  has_superstructure_adobe_mud            260601 non-null  int64 \n",
      " 16  has_superstructure_mud_mortar_stone     260601 non-null  int64 \n",
      " 17  has_superstructure_stone_flag           260601 non-null  int64 \n",
      " 18  has_superstructure_cement_mortar_stone  260601 non-null  int64 \n",
      " 19  has_superstructure_mud_mortar_brick     260601 non-null  int64 \n",
      " 20  has_superstructure_cement_mortar_brick  260601 non-null  int64 \n",
      " 21  has_superstructure_timber               260601 non-null  int64 \n",
      " 22  has_superstructure_bamboo               260601 non-null  int64 \n",
      " 23  has_superstructure_rc_non_engineered    260601 non-null  int64 \n",
      " 24  has_superstructure_rc_engineered        260601 non-null  int64 \n",
      " 25  has_superstructure_other                260601 non-null  int64 \n",
      " 26  legal_ownership_status                  260601 non-null  object\n",
      " 27  count_families                          260601 non-null  int64 \n",
      " 28  has_secondary_use                       260601 non-null  int64 \n",
      " 29  has_secondary_use_agriculture           260601 non-null  int64 \n",
      " 30  has_secondary_use_hotel                 260601 non-null  int64 \n",
      " 31  has_secondary_use_rental                260601 non-null  int64 \n",
      " 32  has_secondary_use_institution           260601 non-null  int64 \n",
      " 33  has_secondary_use_school                260601 non-null  int64 \n",
      " 34  has_secondary_use_industry              260601 non-null  int64 \n",
      " 35  has_secondary_use_health_post           260601 non-null  int64 \n",
      " 36  has_secondary_use_gov_office            260601 non-null  int64 \n",
      " 37  has_secondary_use_use_police            260601 non-null  int64 \n",
      " 38  has_secondary_use_other                 260601 non-null  int64 \n",
      "dtypes: int64(31), object(8)\n",
      "memory usage: 77.5+ MB\n"
     ]
    }
   ],
   "source": [
    "bdg_data.info()"
   ]
  },
  {
   "cell_type": "markdown",
   "id": "766bdce9",
   "metadata": {},
   "source": [
    "### Predictors variables to choose"
   ]
  },
  {
   "cell_type": "code",
   "execution_count": 115,
   "id": "512c20f2",
   "metadata": {},
   "outputs": [],
   "source": [
    "bdgPredData = pd.DataFrame(bdg_data[['age', 'foundation_type', 'count_floors_pre_eq', 'height_percentage','roof_type','ground_floor_type', 'land_surface_condition']])"
   ]
  },
  {
   "cell_type": "code",
   "execution_count": 116,
   "id": "425de88f",
   "metadata": {},
   "outputs": [
    {
     "data": {
      "text/html": [
       "<div>\n",
       "<style scoped>\n",
       "    .dataframe tbody tr th:only-of-type {\n",
       "        vertical-align: middle;\n",
       "    }\n",
       "\n",
       "    .dataframe tbody tr th {\n",
       "        vertical-align: top;\n",
       "    }\n",
       "\n",
       "    .dataframe thead th {\n",
       "        text-align: right;\n",
       "    }\n",
       "</style>\n",
       "<table border=\"1\" class=\"dataframe\">\n",
       "  <thead>\n",
       "    <tr style=\"text-align: right;\">\n",
       "      <th></th>\n",
       "      <th>age</th>\n",
       "      <th>foundation_type</th>\n",
       "      <th>count_floors_pre_eq</th>\n",
       "      <th>height_percentage</th>\n",
       "      <th>roof_type</th>\n",
       "      <th>ground_floor_type</th>\n",
       "      <th>land_surface_condition</th>\n",
       "    </tr>\n",
       "  </thead>\n",
       "  <tbody>\n",
       "    <tr>\n",
       "      <th>0</th>\n",
       "      <td>30</td>\n",
       "      <td>r</td>\n",
       "      <td>2</td>\n",
       "      <td>5</td>\n",
       "      <td>n</td>\n",
       "      <td>f</td>\n",
       "      <td>t</td>\n",
       "    </tr>\n",
       "    <tr>\n",
       "      <th>1</th>\n",
       "      <td>10</td>\n",
       "      <td>r</td>\n",
       "      <td>2</td>\n",
       "      <td>7</td>\n",
       "      <td>n</td>\n",
       "      <td>x</td>\n",
       "      <td>o</td>\n",
       "    </tr>\n",
       "    <tr>\n",
       "      <th>2</th>\n",
       "      <td>10</td>\n",
       "      <td>r</td>\n",
       "      <td>2</td>\n",
       "      <td>5</td>\n",
       "      <td>n</td>\n",
       "      <td>f</td>\n",
       "      <td>t</td>\n",
       "    </tr>\n",
       "    <tr>\n",
       "      <th>3</th>\n",
       "      <td>10</td>\n",
       "      <td>r</td>\n",
       "      <td>2</td>\n",
       "      <td>5</td>\n",
       "      <td>n</td>\n",
       "      <td>f</td>\n",
       "      <td>t</td>\n",
       "    </tr>\n",
       "    <tr>\n",
       "      <th>4</th>\n",
       "      <td>30</td>\n",
       "      <td>r</td>\n",
       "      <td>3</td>\n",
       "      <td>9</td>\n",
       "      <td>n</td>\n",
       "      <td>f</td>\n",
       "      <td>t</td>\n",
       "    </tr>\n",
       "  </tbody>\n",
       "</table>\n",
       "</div>"
      ],
      "text/plain": [
       "   age foundation_type  count_floors_pre_eq  height_percentage roof_type  \\\n",
       "0   30               r                    2                  5         n   \n",
       "1   10               r                    2                  7         n   \n",
       "2   10               r                    2                  5         n   \n",
       "3   10               r                    2                  5         n   \n",
       "4   30               r                    3                  9         n   \n",
       "\n",
       "  ground_floor_type land_surface_condition  \n",
       "0                 f                      t  \n",
       "1                 x                      o  \n",
       "2                 f                      t  \n",
       "3                 f                      t  \n",
       "4                 f                      t  "
      ]
     },
     "execution_count": 116,
     "metadata": {},
     "output_type": "execute_result"
    }
   ],
   "source": [
    "bdgPredData.head()"
   ]
  },
  {
   "cell_type": "markdown",
   "id": "60f82376",
   "metadata": {},
   "source": [
    "### Joining Response data with Predictors data"
   ]
  },
  {
   "cell_type": "code",
   "execution_count": 117,
   "id": "03b7e8ee",
   "metadata": {},
   "outputs": [
    {
     "data": {
      "text/html": [
       "<div>\n",
       "<style scoped>\n",
       "    .dataframe tbody tr th:only-of-type {\n",
       "        vertical-align: middle;\n",
       "    }\n",
       "\n",
       "    .dataframe tbody tr th {\n",
       "        vertical-align: top;\n",
       "    }\n",
       "\n",
       "    .dataframe thead th {\n",
       "        text-align: right;\n",
       "    }\n",
       "</style>\n",
       "<table border=\"1\" class=\"dataframe\">\n",
       "  <thead>\n",
       "    <tr style=\"text-align: right;\">\n",
       "      <th></th>\n",
       "      <th>damage_grade</th>\n",
       "      <th>age</th>\n",
       "      <th>foundation_type</th>\n",
       "      <th>count_floors_pre_eq</th>\n",
       "      <th>height_percentage</th>\n",
       "      <th>roof_type</th>\n",
       "      <th>ground_floor_type</th>\n",
       "      <th>land_surface_condition</th>\n",
       "    </tr>\n",
       "  </thead>\n",
       "  <tbody>\n",
       "    <tr>\n",
       "      <th>0</th>\n",
       "      <td>3</td>\n",
       "      <td>30</td>\n",
       "      <td>r</td>\n",
       "      <td>2</td>\n",
       "      <td>5</td>\n",
       "      <td>n</td>\n",
       "      <td>f</td>\n",
       "      <td>t</td>\n",
       "    </tr>\n",
       "    <tr>\n",
       "      <th>1</th>\n",
       "      <td>2</td>\n",
       "      <td>10</td>\n",
       "      <td>r</td>\n",
       "      <td>2</td>\n",
       "      <td>7</td>\n",
       "      <td>n</td>\n",
       "      <td>x</td>\n",
       "      <td>o</td>\n",
       "    </tr>\n",
       "    <tr>\n",
       "      <th>2</th>\n",
       "      <td>3</td>\n",
       "      <td>10</td>\n",
       "      <td>r</td>\n",
       "      <td>2</td>\n",
       "      <td>5</td>\n",
       "      <td>n</td>\n",
       "      <td>f</td>\n",
       "      <td>t</td>\n",
       "    </tr>\n",
       "    <tr>\n",
       "      <th>3</th>\n",
       "      <td>2</td>\n",
       "      <td>10</td>\n",
       "      <td>r</td>\n",
       "      <td>2</td>\n",
       "      <td>5</td>\n",
       "      <td>n</td>\n",
       "      <td>f</td>\n",
       "      <td>t</td>\n",
       "    </tr>\n",
       "    <tr>\n",
       "      <th>4</th>\n",
       "      <td>3</td>\n",
       "      <td>30</td>\n",
       "      <td>r</td>\n",
       "      <td>3</td>\n",
       "      <td>9</td>\n",
       "      <td>n</td>\n",
       "      <td>f</td>\n",
       "      <td>t</td>\n",
       "    </tr>\n",
       "  </tbody>\n",
       "</table>\n",
       "</div>"
      ],
      "text/plain": [
       "   damage_grade  age foundation_type  count_floors_pre_eq  height_percentage  \\\n",
       "0             3   30               r                    2                  5   \n",
       "1             2   10               r                    2                  7   \n",
       "2             3   10               r                    2                  5   \n",
       "3             2   10               r                    2                  5   \n",
       "4             3   30               r                    3                  9   \n",
       "\n",
       "  roof_type ground_floor_type land_surface_condition  \n",
       "0         n                 f                      t  \n",
       "1         n                 x                      o  \n",
       "2         n                 f                      t  \n",
       "3         n                 f                      t  \n",
       "4         n                 f                      t  "
      ]
     },
     "execution_count": 117,
     "metadata": {},
     "output_type": "execute_result"
    }
   ],
   "source": [
    "data_use = pd.concat([damage_grade, bdgPredData], axis = 1).reindex(damage_grade.index)\n",
    "data_use.head()"
   ]
  },
  {
   "cell_type": "markdown",
   "id": "8da98ae3",
   "metadata": {},
   "source": [
    "### Value Insight"
   ]
  },
  {
   "cell_type": "code",
   "execution_count": 118,
   "id": "3e3a07ea",
   "metadata": {},
   "outputs": [
    {
     "name": "stdout",
     "output_type": "stream",
     "text": [
      "age: [ 30  10  25   0  15  20  45  55   5  40  80  60  35  70  50  65 100  75\n",
      "  85 190 995 105  90 120  95 110 115 150 200 130 125 140 155 160 175 135\n",
      " 145 195 180 165 170 185]\n",
      "foundation_type: ['r' 'w' 'i' 'u' 'h']\n",
      "count_floors_pre_eq: [2 3 1 4 5 6 7 8 9]\n",
      "height_percentage: [ 5  7  9  4  6  3 10  8  2 32 12 11 13 16 15 18 26 17 19 14 20 23 21 25\n",
      " 24 28 31]\n",
      "roof_type: ['n' 'q' 'x']\n",
      "ground_floor_type: ['f' 'x' 'v' 'z' 'm']\n",
      "land_surface_condition: ['t' 'o' 'n']\n",
      "damage_grade: [3 2 1]\n"
     ]
    }
   ],
   "source": [
    "print(\"age:\",data_use['age'].unique()) #final products after cleaning\n",
    "print('foundation_type:',data_use['foundation_type'].unique())\n",
    "print('count_floors_pre_eq:',data_use['count_floors_pre_eq'].unique())\n",
    "print('height_percentage:', data_use['height_percentage'].unique())\n",
    "print('roof_type:',data_use['roof_type'].unique())\n",
    "print('ground_floor_type:',data_use['ground_floor_type'].unique())\n",
    "print('land_surface_condition:',data_use['land_surface_condition'].unique())\n",
    "print('damage_grade:',data_use['damage_grade'].unique())\n"
   ]
  },
  {
   "cell_type": "markdown",
   "id": "634910d2",
   "metadata": {},
   "source": [
    "###  Removing missing value and unreasonable value"
   ]
  },
  {
   "cell_type": "code",
   "execution_count": 119,
   "id": "b2447f94",
   "metadata": {},
   "outputs": [],
   "source": [
    "data_clean = data_use.dropna()\n",
    "data_clean = data_clean[data_clean['age'] != 995]"
   ]
  },
  {
   "cell_type": "markdown",
   "id": "81ede68f",
   "metadata": {},
   "source": [
    "### Value Count Visualisation"
   ]
  },
  {
   "cell_type": "code",
   "execution_count": 120,
   "id": "bdcadeee",
   "metadata": {},
   "outputs": [
    {
     "data": {
      "image/png": "[encoded data removed]",
      "text/plain": [
       "<Figure size 1440x1944 with 8 Axes>"
      ]
     },
     "metadata": {
      "needs_background": "light"
     },
     "output_type": "display_data"
    }
   ],
   "source": [
    "f, axes = plt.subplots(8, 1, figsize=(20, 27))\n",
    "\n",
    "count = 0\n",
    "for variable in data_clean:\n",
    "    sb.countplot(data_clean[variable],ax=axes[count])\n",
    "    count+=1"
   ]
  },
  {
   "cell_type": "markdown",
   "id": "5cde33b4",
   "metadata": {},
   "source": [
    "### Grouping of sub-variables into groups for easier visualization "
   ]
  },
  {
   "cell_type": "markdown",
   "id": "40af9315",
   "metadata": {},
   "source": [
    "#### We found out that the foundation type is more skewed towards 'r', then we grouped the rest into 'not r'"
   ]
  },
  {
   "cell_type": "code",
   "execution_count": 121,
   "id": "b11d3e00",
   "metadata": {},
   "outputs": [],
   "source": [
    "foundation_type_others = ['w', 'i', 'u','h']\n",
    "\n",
    "data_final = data_clean.replace(foundation_type_others,'not r')"
   ]
  },
  {
   "cell_type": "markdown",
   "id": "41cada92",
   "metadata": {},
   "source": [
    "### Visualising Final Data"
   ]
  },
  {
   "cell_type": "code",
   "execution_count": 122,
   "id": "941bcd05",
   "metadata": {},
   "outputs": [
    {
     "data": {
      "image/png": "[encoded data removed]",
      "text/plain": [
       "<Figure size 1440x1944 with 8 Axes>"
      ]
     },
     "metadata": {
      "needs_background": "light"
     },
     "output_type": "display_data"
    }
   ],
   "source": [
    "f, axes = plt.subplots(8, 1, figsize=(20, 27))\n",
    "\n",
    "count = 0\n",
    "for variable in data_final:\n",
    "    sb.countplot(data_final[variable],ax=axes[count])\n",
    "    count+=1"
   ]
  },
  {
   "cell_type": "markdown",
   "id": "051e5d4b",
   "metadata": {},
   "source": [
    "### Numeric Data Present"
   ]
  },
  {
   "cell_type": "code",
   "execution_count": 123,
   "id": "4b80826a",
   "metadata": {},
   "outputs": [
    {
     "data": {
      "text/html": [
       "<div>\n",
       "<style scoped>\n",
       "    .dataframe tbody tr th:only-of-type {\n",
       "        vertical-align: middle;\n",
       "    }\n",
       "\n",
       "    .dataframe tbody tr th {\n",
       "        vertical-align: top;\n",
       "    }\n",
       "\n",
       "    .dataframe thead th {\n",
       "        text-align: right;\n",
       "    }\n",
       "</style>\n",
       "<table border=\"1\" class=\"dataframe\">\n",
       "  <thead>\n",
       "    <tr style=\"text-align: right;\">\n",
       "      <th></th>\n",
       "      <th>damage_grade</th>\n",
       "      <th>age</th>\n",
       "      <th>count_floors_pre_eq</th>\n",
       "      <th>height_percentage</th>\n",
       "    </tr>\n",
       "  </thead>\n",
       "  <tbody>\n",
       "    <tr>\n",
       "      <th>0</th>\n",
       "      <td>3</td>\n",
       "      <td>30</td>\n",
       "      <td>2</td>\n",
       "      <td>5</td>\n",
       "    </tr>\n",
       "    <tr>\n",
       "      <th>1</th>\n",
       "      <td>2</td>\n",
       "      <td>10</td>\n",
       "      <td>2</td>\n",
       "      <td>7</td>\n",
       "    </tr>\n",
       "    <tr>\n",
       "      <th>2</th>\n",
       "      <td>3</td>\n",
       "      <td>10</td>\n",
       "      <td>2</td>\n",
       "      <td>5</td>\n",
       "    </tr>\n",
       "    <tr>\n",
       "      <th>3</th>\n",
       "      <td>2</td>\n",
       "      <td>10</td>\n",
       "      <td>2</td>\n",
       "      <td>5</td>\n",
       "    </tr>\n",
       "    <tr>\n",
       "      <th>4</th>\n",
       "      <td>3</td>\n",
       "      <td>30</td>\n",
       "      <td>3</td>\n",
       "      <td>9</td>\n",
       "    </tr>\n",
       "  </tbody>\n",
       "</table>\n",
       "</div>"
      ],
      "text/plain": [
       "   damage_grade  age  count_floors_pre_eq  height_percentage\n",
       "0             3   30                    2                  5\n",
       "1             2   10                    2                  7\n",
       "2             3   10                    2                  5\n",
       "3             2   10                    2                  5\n",
       "4             3   30                    3                  9"
      ]
     },
     "execution_count": 123,
     "metadata": {},
     "output_type": "execute_result"
    }
   ],
   "source": [
    "data_numeric = data_final.select_dtypes(include = ['int64']) \n",
    "data_numeric.head()"
   ]
  },
  {
   "cell_type": "code",
   "execution_count": 124,
   "id": "395e5875",
   "metadata": {},
   "outputs": [
    {
     "data": {
      "text/html": [
       "<div>\n",
       "<style scoped>\n",
       "    .dataframe tbody tr th:only-of-type {\n",
       "        vertical-align: middle;\n",
       "    }\n",
       "\n",
       "    .dataframe tbody tr th {\n",
       "        vertical-align: top;\n",
       "    }\n",
       "\n",
       "    .dataframe thead th {\n",
       "        text-align: right;\n",
       "    }\n",
       "</style>\n",
       "<table border=\"1\" class=\"dataframe\">\n",
       "  <thead>\n",
       "    <tr style=\"text-align: right;\">\n",
       "      <th></th>\n",
       "      <th>damage_grade</th>\n",
       "      <th>age</th>\n",
       "      <th>count_floors_pre_eq</th>\n",
       "      <th>height_percentage</th>\n",
       "    </tr>\n",
       "  </thead>\n",
       "  <tbody>\n",
       "    <tr>\n",
       "      <th>count</th>\n",
       "      <td>259211.00000</td>\n",
       "      <td>259211.000000</td>\n",
       "      <td>259211.000000</td>\n",
       "      <td>259211.000000</td>\n",
       "    </tr>\n",
       "    <tr>\n",
       "      <th>mean</th>\n",
       "      <td>2.23874</td>\n",
       "      <td>21.341706</td>\n",
       "      <td>2.129308</td>\n",
       "      <td>5.433373</td>\n",
       "    </tr>\n",
       "    <tr>\n",
       "      <th>std</th>\n",
       "      <td>0.61173</td>\n",
       "      <td>19.606818</td>\n",
       "      <td>0.727307</td>\n",
       "      <td>1.917928</td>\n",
       "    </tr>\n",
       "    <tr>\n",
       "      <th>min</th>\n",
       "      <td>1.00000</td>\n",
       "      <td>0.000000</td>\n",
       "      <td>1.000000</td>\n",
       "      <td>2.000000</td>\n",
       "    </tr>\n",
       "    <tr>\n",
       "      <th>25%</th>\n",
       "      <td>2.00000</td>\n",
       "      <td>10.000000</td>\n",
       "      <td>2.000000</td>\n",
       "      <td>4.000000</td>\n",
       "    </tr>\n",
       "    <tr>\n",
       "      <th>50%</th>\n",
       "      <td>2.00000</td>\n",
       "      <td>15.000000</td>\n",
       "      <td>2.000000</td>\n",
       "      <td>5.000000</td>\n",
       "    </tr>\n",
       "    <tr>\n",
       "      <th>75%</th>\n",
       "      <td>3.00000</td>\n",
       "      <td>30.000000</td>\n",
       "      <td>2.000000</td>\n",
       "      <td>6.000000</td>\n",
       "    </tr>\n",
       "    <tr>\n",
       "      <th>max</th>\n",
       "      <td>3.00000</td>\n",
       "      <td>200.000000</td>\n",
       "      <td>9.000000</td>\n",
       "      <td>32.000000</td>\n",
       "    </tr>\n",
       "  </tbody>\n",
       "</table>\n",
       "</div>"
      ],
      "text/plain": [
       "       damage_grade            age  count_floors_pre_eq  height_percentage\n",
       "count  259211.00000  259211.000000        259211.000000      259211.000000\n",
       "mean        2.23874      21.341706             2.129308           5.433373\n",
       "std         0.61173      19.606818             0.727307           1.917928\n",
       "min         1.00000       0.000000             1.000000           2.000000\n",
       "25%         2.00000      10.000000             2.000000           4.000000\n",
       "50%         2.00000      15.000000             2.000000           5.000000\n",
       "75%         3.00000      30.000000             2.000000           6.000000\n",
       "max         3.00000     200.000000             9.000000          32.000000"
      ]
     },
     "execution_count": 124,
     "metadata": {},
     "output_type": "execute_result"
    }
   ],
   "source": [
    "data_numeric.describe()"
   ]
  },
  {
   "cell_type": "markdown",
   "id": "4347bb66",
   "metadata": {},
   "source": [
    "### Categorical Data Present"
   ]
  },
  {
   "cell_type": "code",
   "execution_count": 125,
   "id": "f47c63a1",
   "metadata": {},
   "outputs": [
    {
     "data": {
      "text/html": [
       "<div>\n",
       "<style scoped>\n",
       "    .dataframe tbody tr th:only-of-type {\n",
       "        vertical-align: middle;\n",
       "    }\n",
       "\n",
       "    .dataframe tbody tr th {\n",
       "        vertical-align: top;\n",
       "    }\n",
       "\n",
       "    .dataframe thead th {\n",
       "        text-align: right;\n",
       "    }\n",
       "</style>\n",
       "<table border=\"1\" class=\"dataframe\">\n",
       "  <thead>\n",
       "    <tr style=\"text-align: right;\">\n",
       "      <th></th>\n",
       "      <th>foundation_type</th>\n",
       "      <th>roof_type</th>\n",
       "      <th>ground_floor_type</th>\n",
       "      <th>land_surface_condition</th>\n",
       "    </tr>\n",
       "  </thead>\n",
       "  <tbody>\n",
       "    <tr>\n",
       "      <th>0</th>\n",
       "      <td>r</td>\n",
       "      <td>n</td>\n",
       "      <td>f</td>\n",
       "      <td>t</td>\n",
       "    </tr>\n",
       "    <tr>\n",
       "      <th>1</th>\n",
       "      <td>r</td>\n",
       "      <td>n</td>\n",
       "      <td>x</td>\n",
       "      <td>o</td>\n",
       "    </tr>\n",
       "    <tr>\n",
       "      <th>2</th>\n",
       "      <td>r</td>\n",
       "      <td>n</td>\n",
       "      <td>f</td>\n",
       "      <td>t</td>\n",
       "    </tr>\n",
       "    <tr>\n",
       "      <th>3</th>\n",
       "      <td>r</td>\n",
       "      <td>n</td>\n",
       "      <td>f</td>\n",
       "      <td>t</td>\n",
       "    </tr>\n",
       "    <tr>\n",
       "      <th>4</th>\n",
       "      <td>r</td>\n",
       "      <td>n</td>\n",
       "      <td>f</td>\n",
       "      <td>t</td>\n",
       "    </tr>\n",
       "  </tbody>\n",
       "</table>\n",
       "</div>"
      ],
      "text/plain": [
       "  foundation_type roof_type ground_floor_type land_surface_condition\n",
       "0               r         n                 f                      t\n",
       "1               r         n                 x                      o\n",
       "2               r         n                 f                      t\n",
       "3               r         n                 f                      t\n",
       "4               r         n                 f                      t"
      ]
     },
     "execution_count": 125,
     "metadata": {},
     "output_type": "execute_result"
    }
   ],
   "source": [
    "data_object=data_final.select_dtypes(include = ['object'])\n",
    "data_object.head()"
   ]
  },
  {
   "cell_type": "code",
   "execution_count": 126,
   "id": "20dc2c5f",
   "metadata": {},
   "outputs": [
    {
     "data": {
      "text/html": [
       "<div>\n",
       "<style scoped>\n",
       "    .dataframe tbody tr th:only-of-type {\n",
       "        vertical-align: middle;\n",
       "    }\n",
       "\n",
       "    .dataframe tbody tr th {\n",
       "        vertical-align: top;\n",
       "    }\n",
       "\n",
       "    .dataframe thead th {\n",
       "        text-align: right;\n",
       "    }\n",
       "</style>\n",
       "<table border=\"1\" class=\"dataframe\">\n",
       "  <thead>\n",
       "    <tr style=\"text-align: right;\">\n",
       "      <th></th>\n",
       "      <th>foundation_type</th>\n",
       "      <th>roof_type</th>\n",
       "      <th>ground_floor_type</th>\n",
       "      <th>land_surface_condition</th>\n",
       "    </tr>\n",
       "  </thead>\n",
       "  <tbody>\n",
       "    <tr>\n",
       "      <th>count</th>\n",
       "      <td>259211</td>\n",
       "      <td>259211</td>\n",
       "      <td>259211</td>\n",
       "      <td>259211</td>\n",
       "    </tr>\n",
       "    <tr>\n",
       "      <th>unique</th>\n",
       "      <td>2</td>\n",
       "      <td>3</td>\n",
       "      <td>5</td>\n",
       "      <td>3</td>\n",
       "    </tr>\n",
       "    <tr>\n",
       "      <th>top</th>\n",
       "      <td>r</td>\n",
       "      <td>n</td>\n",
       "      <td>f</td>\n",
       "      <td>t</td>\n",
       "    </tr>\n",
       "    <tr>\n",
       "      <th>freq</th>\n",
       "      <td>217932</td>\n",
       "      <td>181762</td>\n",
       "      <td>208421</td>\n",
       "      <td>215522</td>\n",
       "    </tr>\n",
       "  </tbody>\n",
       "</table>\n",
       "</div>"
      ],
      "text/plain": [
       "       foundation_type roof_type ground_floor_type land_surface_condition\n",
       "count           259211    259211            259211                 259211\n",
       "unique               2         3                 5                      3\n",
       "top                  r         n                 f                      t\n",
       "freq            217932    181762            208421                 215522"
      ]
     },
     "execution_count": 126,
     "metadata": {},
     "output_type": "execute_result"
    }
   ],
   "source": [
    "data_object.describe()"
   ]
  },
  {
   "cell_type": "markdown",
   "id": "d9951b09",
   "metadata": {},
   "source": [
    "### Encoding Categorical Variables into Numerical Variables"
   ]
  },
  {
   "cell_type": "code",
   "execution_count": 127,
   "id": "53a35f9b",
   "metadata": {},
   "outputs": [],
   "source": [
    "data_final['foundation_type_fact'],_ = pd.factorize(data_final['foundation_type'])\n",
    "data_final['roof_type_fact'],_ = pd.factorize(data_final['roof_type'])\n",
    "data_final['ground_floor_type_fact'],_ = pd.factorize(data_final['ground_floor_type'])\n",
    "data_final['land_surface_condition_fact'],_ = pd.factorize(data_final['land_surface_condition'])"
   ]
  },
  {
   "cell_type": "markdown",
   "id": "e56b5dcf",
   "metadata": {},
   "source": [
    "### Mapping type to respective categories"
   ]
  },
  {
   "cell_type": "code",
   "execution_count": 128,
   "id": "63a57106",
   "metadata": {},
   "outputs": [
    {
     "name": "stdout",
     "output_type": "stream",
     "text": [
      "foundation_type\n",
      "['r' 'not r']\n",
      "[0 1] \n",
      "\n",
      "roof_type\n",
      "['n' 'q' 'x']\n",
      "[0 1 2] \n",
      "\n",
      "ground_floor_type\n",
      "['f' 'x' 'v' 'z' 'm']\n",
      "[0 1 2 3 4] \n",
      "\n",
      "land_surface_condition\n",
      "['t' 'o' 'n']\n",
      "[0 1 2] \n",
      "\n",
      "foundation_type check values\n",
      "foundation_type\n",
      "not r     41279\n",
      "r        217932\n",
      "dtype: int64 \n",
      "\n",
      "foundation_type_fact\n",
      "0    217932\n",
      "1     41279\n",
      "dtype: int64\n",
      "\n",
      "roof_type check values\n",
      "roof_type\n",
      "n    181762\n",
      "q     61333\n",
      "x     16116\n",
      "dtype: int64 \n",
      "\n",
      "roof_type_fact\n",
      "0    181762\n",
      "1     61333\n",
      "2     16116\n",
      "dtype: int64\n",
      "\n",
      "ground_floor_type check values\n",
      "ground_floor_type\n",
      "f    208421\n",
      "m       507\n",
      "v     24476\n",
      "x     24809\n",
      "z       998\n",
      "dtype: int64 \n",
      "\n",
      "ground_floor_type_fact\n",
      "0    208421\n",
      "1     24809\n",
      "2     24476\n",
      "3       998\n",
      "4       507\n",
      "dtype: int64\n",
      "\n",
      "land_surface_condition check values\n",
      "land_surface_condition\n",
      "n     35389\n",
      "o      8300\n",
      "t    215522\n",
      "dtype: int64 \n",
      "\n",
      "land_surface_condition_fact\n",
      "0    215522\n",
      "1      8300\n",
      "2     35389\n",
      "dtype: int64\n"
     ]
    }
   ],
   "source": [
    "#mapping type to the respective categories\n",
    "\n",
    "print('foundation_type')\n",
    "print(data_final['foundation_type'].unique())\n",
    "print(data_final['foundation_type_fact'].unique(), '\\n')\n",
    "\n",
    "print('roof_type')\n",
    "print(data_final['roof_type'].unique())\n",
    "print(data_final['roof_type_fact'].unique(), '\\n')\n",
    "\n",
    "print('ground_floor_type')\n",
    "print(data_final['ground_floor_type'].unique())\n",
    "print(data_final['ground_floor_type_fact'].unique(), '\\n')\n",
    "\n",
    "print('land_surface_condition')\n",
    "print(data_final['land_surface_condition'].unique())\n",
    "print(data_final['land_surface_condition_fact'].unique(), '\\n')\n",
    "\n",
    "\n",
    "\n",
    "print('foundation_type check values')\n",
    "print(data_final.pivot_table(index=['foundation_type'], aggfunc='size'), '\\n') #check if the values are assigned in correct order: yes!\n",
    "print(data_final.pivot_table(index=['foundation_type_fact'], aggfunc='size'))\n",
    "print(\"\")\n",
    "print('roof_type check values')\n",
    "print(data_final.pivot_table(index=['roof_type'], aggfunc='size'), '\\n') #check if the values are assigned in correct order: yes!\n",
    "print(data_final.pivot_table(index=['roof_type_fact'], aggfunc='size'))\n",
    "print(\"\")\n",
    "print('ground_floor_type check values')\n",
    "print(data_final.pivot_table(index=['ground_floor_type'], aggfunc='size'), '\\n') #check if the values are assigned in correct order: yes!\n",
    "print(data_final.pivot_table(index=['ground_floor_type_fact'], aggfunc='size'))\n",
    "print(\"\")\n",
    "print('land_surface_condition check values')\n",
    "print(data_final.pivot_table(index=['land_surface_condition'], aggfunc='size'), '\\n') #check if the values are assigned in correct order: yes!\n",
    "print(data_final.pivot_table(index=['land_surface_condition_fact'], aggfunc='size'))"
   ]
  },
  {
   "cell_type": "code",
   "execution_count": 129,
   "id": "3da16caf",
   "metadata": {},
   "outputs": [
    {
     "data": {
      "text/html": [
       "<div>\n",
       "<style scoped>\n",
       "    .dataframe tbody tr th:only-of-type {\n",
       "        vertical-align: middle;\n",
       "    }\n",
       "\n",
       "    .dataframe tbody tr th {\n",
       "        vertical-align: top;\n",
       "    }\n",
       "\n",
       "    .dataframe thead th {\n",
       "        text-align: right;\n",
       "    }\n",
       "</style>\n",
       "<table border=\"1\" class=\"dataframe\">\n",
       "  <thead>\n",
       "    <tr style=\"text-align: right;\">\n",
       "      <th></th>\n",
       "      <th>damage_grade</th>\n",
       "      <th>age</th>\n",
       "      <th>foundation_type</th>\n",
       "      <th>count_floors_pre_eq</th>\n",
       "      <th>height_percentage</th>\n",
       "      <th>roof_type</th>\n",
       "      <th>ground_floor_type</th>\n",
       "      <th>land_surface_condition</th>\n",
       "      <th>foundation_type_fact</th>\n",
       "      <th>roof_type_fact</th>\n",
       "      <th>ground_floor_type_fact</th>\n",
       "      <th>land_surface_condition_fact</th>\n",
       "    </tr>\n",
       "  </thead>\n",
       "  <tbody>\n",
       "    <tr>\n",
       "      <th>0</th>\n",
       "      <td>3</td>\n",
       "      <td>30</td>\n",
       "      <td>r</td>\n",
       "      <td>2</td>\n",
       "      <td>5</td>\n",
       "      <td>n</td>\n",
       "      <td>f</td>\n",
       "      <td>t</td>\n",
       "      <td>0</td>\n",
       "      <td>0</td>\n",
       "      <td>0</td>\n",
       "      <td>0</td>\n",
       "    </tr>\n",
       "    <tr>\n",
       "      <th>1</th>\n",
       "      <td>2</td>\n",
       "      <td>10</td>\n",
       "      <td>r</td>\n",
       "      <td>2</td>\n",
       "      <td>7</td>\n",
       "      <td>n</td>\n",
       "      <td>x</td>\n",
       "      <td>o</td>\n",
       "      <td>0</td>\n",
       "      <td>0</td>\n",
       "      <td>1</td>\n",
       "      <td>1</td>\n",
       "    </tr>\n",
       "    <tr>\n",
       "      <th>2</th>\n",
       "      <td>3</td>\n",
       "      <td>10</td>\n",
       "      <td>r</td>\n",
       "      <td>2</td>\n",
       "      <td>5</td>\n",
       "      <td>n</td>\n",
       "      <td>f</td>\n",
       "      <td>t</td>\n",
       "      <td>0</td>\n",
       "      <td>0</td>\n",
       "      <td>0</td>\n",
       "      <td>0</td>\n",
       "    </tr>\n",
       "    <tr>\n",
       "      <th>3</th>\n",
       "      <td>2</td>\n",
       "      <td>10</td>\n",
       "      <td>r</td>\n",
       "      <td>2</td>\n",
       "      <td>5</td>\n",
       "      <td>n</td>\n",
       "      <td>f</td>\n",
       "      <td>t</td>\n",
       "      <td>0</td>\n",
       "      <td>0</td>\n",
       "      <td>0</td>\n",
       "      <td>0</td>\n",
       "    </tr>\n",
       "    <tr>\n",
       "      <th>4</th>\n",
       "      <td>3</td>\n",
       "      <td>30</td>\n",
       "      <td>r</td>\n",
       "      <td>3</td>\n",
       "      <td>9</td>\n",
       "      <td>n</td>\n",
       "      <td>f</td>\n",
       "      <td>t</td>\n",
       "      <td>0</td>\n",
       "      <td>0</td>\n",
       "      <td>0</td>\n",
       "      <td>0</td>\n",
       "    </tr>\n",
       "    <tr>\n",
       "      <th>...</th>\n",
       "      <td>...</td>\n",
       "      <td>...</td>\n",
       "      <td>...</td>\n",
       "      <td>...</td>\n",
       "      <td>...</td>\n",
       "      <td>...</td>\n",
       "      <td>...</td>\n",
       "      <td>...</td>\n",
       "      <td>...</td>\n",
       "      <td>...</td>\n",
       "      <td>...</td>\n",
       "      <td>...</td>\n",
       "    </tr>\n",
       "    <tr>\n",
       "      <th>260596</th>\n",
       "      <td>2</td>\n",
       "      <td>55</td>\n",
       "      <td>r</td>\n",
       "      <td>1</td>\n",
       "      <td>3</td>\n",
       "      <td>n</td>\n",
       "      <td>f</td>\n",
       "      <td>n</td>\n",
       "      <td>0</td>\n",
       "      <td>0</td>\n",
       "      <td>0</td>\n",
       "      <td>2</td>\n",
       "    </tr>\n",
       "    <tr>\n",
       "      <th>260597</th>\n",
       "      <td>3</td>\n",
       "      <td>0</td>\n",
       "      <td>r</td>\n",
       "      <td>2</td>\n",
       "      <td>5</td>\n",
       "      <td>n</td>\n",
       "      <td>f</td>\n",
       "      <td>t</td>\n",
       "      <td>0</td>\n",
       "      <td>0</td>\n",
       "      <td>0</td>\n",
       "      <td>0</td>\n",
       "    </tr>\n",
       "    <tr>\n",
       "      <th>260598</th>\n",
       "      <td>3</td>\n",
       "      <td>55</td>\n",
       "      <td>r</td>\n",
       "      <td>3</td>\n",
       "      <td>7</td>\n",
       "      <td>q</td>\n",
       "      <td>f</td>\n",
       "      <td>t</td>\n",
       "      <td>0</td>\n",
       "      <td>1</td>\n",
       "      <td>0</td>\n",
       "      <td>0</td>\n",
       "    </tr>\n",
       "    <tr>\n",
       "      <th>260599</th>\n",
       "      <td>2</td>\n",
       "      <td>10</td>\n",
       "      <td>r</td>\n",
       "      <td>2</td>\n",
       "      <td>6</td>\n",
       "      <td>x</td>\n",
       "      <td>v</td>\n",
       "      <td>t</td>\n",
       "      <td>0</td>\n",
       "      <td>2</td>\n",
       "      <td>2</td>\n",
       "      <td>0</td>\n",
       "    </tr>\n",
       "    <tr>\n",
       "      <th>260600</th>\n",
       "      <td>3</td>\n",
       "      <td>10</td>\n",
       "      <td>r</td>\n",
       "      <td>3</td>\n",
       "      <td>6</td>\n",
       "      <td>n</td>\n",
       "      <td>f</td>\n",
       "      <td>n</td>\n",
       "      <td>0</td>\n",
       "      <td>0</td>\n",
       "      <td>0</td>\n",
       "      <td>2</td>\n",
       "    </tr>\n",
       "  </tbody>\n",
       "</table>\n",
       "<p>259211 rows × 12 columns</p>\n",
       "</div>"
      ],
      "text/plain": [
       "        damage_grade  age foundation_type  count_floors_pre_eq  \\\n",
       "0                  3   30               r                    2   \n",
       "1                  2   10               r                    2   \n",
       "2                  3   10               r                    2   \n",
       "3                  2   10               r                    2   \n",
       "4                  3   30               r                    3   \n",
       "...              ...  ...             ...                  ...   \n",
       "260596             2   55               r                    1   \n",
       "260597             3    0               r                    2   \n",
       "260598             3   55               r                    3   \n",
       "260599             2   10               r                    2   \n",
       "260600             3   10               r                    3   \n",
       "\n",
       "        height_percentage roof_type ground_floor_type land_surface_condition  \\\n",
       "0                       5         n                 f                      t   \n",
       "1                       7         n                 x                      o   \n",
       "2                       5         n                 f                      t   \n",
       "3                       5         n                 f                      t   \n",
       "4                       9         n                 f                      t   \n",
       "...                   ...       ...               ...                    ...   \n",
       "260596                  3         n                 f                      n   \n",
       "260597                  5         n                 f                      t   \n",
       "260598                  7         q                 f                      t   \n",
       "260599                  6         x                 v                      t   \n",
       "260600                  6         n                 f                      n   \n",
       "\n",
       "        foundation_type_fact  roof_type_fact  ground_floor_type_fact  \\\n",
       "0                          0               0                       0   \n",
       "1                          0               0                       1   \n",
       "2                          0               0                       0   \n",
       "3                          0               0                       0   \n",
       "4                          0               0                       0   \n",
       "...                      ...             ...                     ...   \n",
       "260596                     0               0                       0   \n",
       "260597                     0               0                       0   \n",
       "260598                     0               1                       0   \n",
       "260599                     0               2                       2   \n",
       "260600                     0               0                       0   \n",
       "\n",
       "        land_surface_condition_fact  \n",
       "0                                 0  \n",
       "1                                 1  \n",
       "2                                 0  \n",
       "3                                 0  \n",
       "4                                 0  \n",
       "...                             ...  \n",
       "260596                            2  \n",
       "260597                            0  \n",
       "260598                            0  \n",
       "260599                            0  \n",
       "260600                            2  \n",
       "\n",
       "[259211 rows x 12 columns]"
      ]
     },
     "execution_count": 129,
     "metadata": {},
     "output_type": "execute_result"
    }
   ],
   "source": [
    "data_final"
   ]
  },
  {
   "cell_type": "markdown",
   "id": "feb34def",
   "metadata": {},
   "source": [
    "### Splitting the Data to Test Data and Train Data"
   ]
  },
  {
   "cell_type": "code",
   "execution_count": 130,
   "id": "93370eca",
   "metadata": {},
   "outputs": [],
   "source": [
    "# Import Decision Tree Classifier model from Scikit-Learn\n",
    "from sklearn.model_selection import train_test_split\n",
    "\n",
    "y = pd.DataFrame(data_final['damage_grade'])\n",
    "X = pd.DataFrame(data_final[['age',\n",
    "                             'count_floors_pre_eq',\n",
    "                             'height_percentage',\n",
    "                             'foundation_type_fact',\n",
    "                             'roof_type_fact',\n",
    "                             'ground_floor_type_fact',\n",
    "                             'land_surface_condition_fact']])\n",
    "\n",
    "X_train, X_test, y_train, y_test = train_test_split(X, y, test_size = 0.25)"
   ]
  },
  {
   "cell_type": "markdown",
   "id": "13f8aafb",
   "metadata": {},
   "source": [
    "# Using a Decision Tree Model for predicting the damage grade"
   ]
  },
  {
   "cell_type": "code",
   "execution_count": 131,
   "id": "9814c188",
   "metadata": {},
   "outputs": [],
   "source": [
    "from sklearn.tree import DecisionTreeClassifier \n",
    "from sklearn import tree \n",
    "from sklearn.metrics import confusion_matrix"
   ]
  },
  {
   "cell_type": "code",
   "execution_count": 132,
   "id": "8d1c76db",
   "metadata": {},
   "outputs": [],
   "source": [
    "damage_rate_dectree = []\n",
    "\n",
    "for i in range(1,21):\n",
    "    dectree = DecisionTreeClassifier(max_depth=i)\n",
    "    dectree.fit(X_train,y_train)\n",
    "    pred_i = dectree.predict(X_test)\n",
    "    List = y_test['damage_grade'].tolist()\n",
    "    damage_rate_dectree.append(np.mean(pred_i != List))"
   ]
  },
  {
   "cell_type": "code",
   "execution_count": 133,
   "id": "05784c07",
   "metadata": {},
   "outputs": [
    {
     "data": {
      "text/plain": [
       "Text(0, 0.5, 'Damage Rate')"
      ]
     },
     "execution_count": 133,
     "metadata": {},
     "output_type": "execute_result"
    },
    {
     "data": {
      "image/png": "[encoded data removed]",
      "text/plain": [
       "<Figure size 1440x720 with 1 Axes>"
      ]
     },
     "metadata": {
      "needs_background": "light"
     },
     "output_type": "display_data"
    }
   ],
   "source": [
    "plt.figure(figsize=(20,10))\n",
    "plt.plot(range(1,21),damage_rate_dectree,color='blue', linestyle='dashed', marker='o', markerfacecolor='yellow', markersize=10)\n",
    "plt.title('Damage Rate vs. Max Depth')\n",
    "plt.xlabel('Max Depth')\n",
    "plt.ylabel('Damage Rate')"
   ]
  },
  {
   "cell_type": "code",
   "execution_count": 134,
   "id": "90915e80",
   "metadata": {},
   "outputs": [],
   "source": [
    "M = min(damage_rate_dectree)\n",
    "search_space_depth = []\n",
    "\n",
    "for i in range(20):\n",
    "    if damage_rate_dectree[i] == M:\n",
    "        search_space_depth.append(i+1)\n",
    "    else:\n",
    "        continue"
   ]
  },
  {
   "cell_type": "markdown",
   "id": "1925e77f",
   "metadata": {},
   "source": [
    "### We will be finding the optimal values of the parameters through the method of GridSearch Cross Validation as well"
   ]
  },
  {
   "cell_type": "code",
   "execution_count": 135,
   "id": "5a7e91a3",
   "metadata": {},
   "outputs": [
    {
     "name": "stdout",
     "output_type": "stream",
     "text": [
      "Fitting 5 folds for each of 1 candidates, totalling 5 fits\n"
     ]
    },
    {
     "data": {
      "text/plain": [
       "GridSearchCV(cv=5, estimator=DecisionTreeClassifier(), n_jobs=-1,\n",
       "             param_grid={'max_depth': [9]}, verbose=1)"
      ]
     },
     "execution_count": 135,
     "metadata": {},
     "output_type": "execute_result"
    }
   ],
   "source": [
    "from sklearn.model_selection import GridSearchCV\n",
    "dectree2 = DecisionTreeClassifier()\n",
    "param_grid = {'max_depth': search_space_depth}\n",
    "dectree_rscv = GridSearchCV(dectree2, param_grid, cv=5,verbose=1,n_jobs=-1)\n",
    "dectree_rscv.fit(X, y.values.ravel())"
   ]
  },
  {
   "cell_type": "code",
   "execution_count": 136,
   "id": "7640c202",
   "metadata": {},
   "outputs": [
    {
     "name": "stdout",
     "output_type": "stream",
     "text": [
      "Optimal Depth: 9\n"
     ]
    }
   ],
   "source": [
    "depth = dectree_rscv.best_params_['max_depth']\n",
    "print('Optimal Depth:', depth)"
   ]
  },
  {
   "cell_type": "code",
   "execution_count": 137,
   "id": "a2bf9fe8",
   "metadata": {},
   "outputs": [],
   "source": [
    "#pip install graphviz"
   ]
  },
  {
   "cell_type": "code",
   "execution_count": 138,
   "id": "98680eed",
   "metadata": {},
   "outputs": [],
   "source": [
    "dectree = DecisionTreeClassifier(max_depth=depth)\n",
    "dectree.fit(X_train,y_train)\n",
    "\n",
    "# Plot the Decision Tree\n",
    "from sklearn.tree import export_graphviz\n",
    "treedot = export_graphviz(dectree,                                      # the model\n",
    "                          feature_names = X_train.columns,              # the features \n",
    "                          out_file = None,                              # output file\n",
    "                          filled = True,                                # node colors\n",
    "                          rounded = True,                               # make pretty\n",
    "                          special_characters = True)                    # postscript\n",
    "\n",
    "#import graphviz\n",
    "#graphviz.Source(treedot)"
   ]
  },
  {
   "cell_type": "markdown",
   "id": "9411366e",
   "metadata": {},
   "source": [
    "### Generating confusion matrix using decision tree model"
   ]
  },
  {
   "cell_type": "code",
   "execution_count": 139,
   "id": "a4920734",
   "metadata": {},
   "outputs": [
    {
     "name": "stdout",
     "output_type": "stream",
     "text": [
      "Train Dataset: Decision Tree Classification\n",
      "Classification Accuracy on train set: 0.5848\n"
     ]
    },
    {
     "data": {
      "text/plain": [
       "Text(0.5, 15.0, 'Predicted')"
      ]
     },
     "execution_count": 139,
     "metadata": {},
     "output_type": "execute_result"
    },
    {
     "data": {
      "image/png": "[encoded data removed]",
      "text/plain": [
       "<Figure size 432x288 with 2 Axes>"
      ]
     },
     "metadata": {
      "needs_background": "light"
     },
     "output_type": "display_data"
    }
   ],
   "source": [
    "#Prediction on the train dataset\n",
    "y_train_pred = dectree.predict(X_train)\n",
    "\n",
    "print(\"Train Dataset: Decision Tree Classification\")\n",
    "print(\"Classification Accuracy on train set:\", dectree.score(X_train, y_train).round(4))\n",
    "\n",
    "cm = confusion_matrix(y_train, y_train_pred)\n",
    "\n",
    "sb.heatmap(cm, annot = True, fmt=\".0f\", annot_kws={\"size\": 18})\n",
    "\n",
    "\n",
    "plt.ylabel('Actual')\n",
    "plt.xlabel('Predicted')"
   ]
  },
  {
   "cell_type": "code",
   "execution_count": 140,
   "id": "abbd5526",
   "metadata": {},
   "outputs": [
    {
     "name": "stdout",
     "output_type": "stream",
     "text": [
      "Train Dataset: Decision Tree Classification\n",
      "Classification Accuracy test set: 0.5806\n"
     ]
    },
    {
     "data": {
      "text/plain": [
       "Text(0.5, 15.0, 'Predicted')"
      ]
     },
     "execution_count": 140,
     "metadata": {},
     "output_type": "execute_result"
    },
    {
     "data": {
      "image/png": "[encoded data removed]",
      "text/plain": [
       "<Figure size 432x288 with 2 Axes>"
      ]
     },
     "metadata": {
      "needs_background": "light"
     },
     "output_type": "display_data"
    }
   ],
   "source": [
    "#Prediction on the test dataset\n",
    "y_test_pred = dectree.predict(X_test)\n",
    "\n",
    "print(\"Test Dataset: Decision Tree Classification\")\n",
    "print(\"Classification Accuracy test set:\", dectree.score(X_test, y_test).round(4))\n",
    "\n",
    "cm = confusion_matrix(y_train, y_train_pred)\n",
    "\n",
    "sb.heatmap(cm, annot = True, fmt=\".0f\", annot_kws={\"size\": 18})\n",
    "\n",
    "\n",
    "plt.ylabel('Actual')\n",
    "plt.xlabel('Predicted')\n"
   ]
  },
  {
   "cell_type": "markdown",
   "id": "68b196e3",
   "metadata": {},
   "source": [
    "### Classification report of Decision Tree"
   ]
  },
  {
   "cell_type": "code",
   "execution_count": 141,
   "id": "38afdea4",
   "metadata": {},
   "outputs": [
    {
     "name": "stdout",
     "output_type": "stream",
     "text": [
      "Train Data Classification Report\n",
      "              precision    recall  f1-score   support\n",
      "\n",
      "           1       0.60      0.32      0.42     18759\n",
      "           2       0.59      0.93      0.72    110552\n",
      "           3       0.54      0.07      0.13     65097\n",
      "\n",
      "    accuracy                           0.58    194408\n",
      "   macro avg       0.57      0.44      0.42    194408\n",
      "weighted avg       0.57      0.58      0.49    194408\n",
      "\n"
     ]
    }
   ],
   "source": [
    "from sklearn.metrics import classification_report\n",
    "print('Train Data Classification Report')\n",
    "print(classification_report(y_train, y_train_pred))"
   ]
  },
  {
   "cell_type": "code",
   "execution_count": 142,
   "id": "ec13a0f5",
   "metadata": {},
   "outputs": [
    {
     "name": "stdout",
     "output_type": "stream",
     "text": [
      "Test Data Classification Report\n",
      "              precision    recall  f1-score   support\n",
      "\n",
      "           1       0.56      0.30      0.39      6186\n",
      "           2       0.58      0.93      0.72     36885\n",
      "           3       0.52      0.07      0.13     21732\n",
      "\n",
      "    accuracy                           0.58     64803\n",
      "   macro avg       0.56      0.43      0.41     64803\n",
      "weighted avg       0.56      0.58      0.49     64803\n",
      "\n"
     ]
    }
   ],
   "source": [
    "print('Test Data Classification Report')\n",
    "print(classification_report(y_test, y_test_pred))"
   ]
  },
  {
   "cell_type": "markdown",
   "id": "94d85790",
   "metadata": {},
   "source": [
    "### Feature importance for the decision tree model"
   ]
  },
  {
   "cell_type": "code",
   "execution_count": 143,
   "id": "a5f2fec6",
   "metadata": {},
   "outputs": [
    {
     "name": "stdout",
     "output_type": "stream",
     "text": [
      "Decision Tree Feature Importances\n",
      "age : 0.108\n",
      "count_floors_pre_eq : 0.1248\n",
      "height_percentage : 0.0519\n",
      "foundation_type_fact : 0.4939\n",
      "roof_type_fact : 0.1121\n",
      "ground_floor_type_fact : 0.0904\n",
      "land_surface_condition_fact : 0.0188\n"
     ]
    }
   ],
   "source": [
    "importance = dectree.feature_importances_\n",
    "\n",
    "x = ['age',\n",
    "     'count_floors_pre_eq',  \n",
    "     'height_percentage',                             \n",
    "     'foundation_type_fact',                         \n",
    "     'roof_type_fact', \n",
    "     'ground_floor_type_fact',\n",
    "     'land_surface_condition_fact']\n",
    "\n",
    "print('Decision Tree Feature Importances')\n",
    "for i in range(7):\n",
    "    print(x[i],':',importance[i].round(4))"
   ]
  },
  {
   "cell_type": "code",
   "execution_count": 144,
   "id": "39ab968d",
   "metadata": {},
   "outputs": [
    {
     "data": {
      "image/png": "[encoded data removed]",
      "text/plain": [
       "<Figure size 432x288 with 1 Axes>"
      ]
     },
     "metadata": {
      "needs_background": "light"
     },
     "output_type": "display_data"
    }
   ],
   "source": [
    "sorted_index = np.argsort(importance)\n",
    "position = np.arange(sorted_index.shape[0]) + .5\n",
    "\n",
    "plt.barh(position, importance[sorted_index], align='center')\n",
    "plt.yticks(position, X_train.keys()[sorted_index])\n",
    "plt.xlabel('Relative Importance')\n",
    "plt.title('Variable Importance')\n",
    "plt.show()"
   ]
  },
  {
   "cell_type": "markdown",
   "id": "c2065cd1",
   "metadata": {},
   "source": [
    "# Using K-Nearest Neighbours Classifier for predicting the damage grade"
   ]
  },
  {
   "cell_type": "code",
   "execution_count": 145,
   "id": "eca2ea28",
   "metadata": {},
   "outputs": [],
   "source": [
    "from sklearn.neighbors import KNeighborsClassifier\n",
    "from sklearn.model_selection import GridSearchCV"
   ]
  },
  {
   "cell_type": "code",
   "execution_count": 146,
   "id": "2dd0217c",
   "metadata": {},
   "outputs": [],
   "source": [
    "### Determining the optimium value of k and leaf size for the classification model by calculating the error rate for different values of k and leaf size"
   ]
  },
  {
   "cell_type": "code",
   "execution_count": 147,
   "id": "d774e95c",
   "metadata": {},
   "outputs": [],
   "source": [
    "error_rate_knn = []\n",
    "\n",
    "for i in range(1,15):\n",
    "    knn = KNeighborsClassifier(n_neighbors=i)\n",
    "    knn.fit(X_train,y_train.values.ravel())\n",
    "    pred_i = knn.predict(X_test)\n",
    "    List = y_test['damage_grade'].tolist()\n",
    "    error_rate_knn.append(np.mean(pred_i != List))"
   ]
  },
  {
   "cell_type": "code",
   "execution_count": 148,
   "id": "9d571045",
   "metadata": {},
   "outputs": [
    {
     "data": {
      "text/plain": [
       "Text(0, 0.5, 'Error Rate')"
      ]
     },
     "execution_count": 148,
     "metadata": {},
     "output_type": "execute_result"
    },
    {
     "data": {
      "image/png": "[encoded data removed]",
      "text/plain": [
       "<Figure size 1440x720 with 1 Axes>"
      ]
     },
     "metadata": {
      "needs_background": "light"
     },
     "output_type": "display_data"
    }
   ],
   "source": [
    "plt.figure(figsize=(20,10))\n",
    "plt.plot(range(1,15),error_rate_knn,color='blue', linestyle='dashed', marker='o', markerfacecolor='yellow', markersize=10)\n",
    "plt.title('Error Rate vs. K Value')\n",
    "plt.xlabel('K')\n",
    "plt.ylabel('Error Rate')"
   ]
  },
  {
   "cell_type": "code",
   "execution_count": 149,
   "id": "71dda6e7",
   "metadata": {},
   "outputs": [],
   "source": [
    "error_rate_knn_leaf = []\n",
    "\n",
    "for i in range(1,15):\n",
    "    knn = KNeighborsClassifier(leaf_size=i)\n",
    "    knn.fit(X_train,y_train.values.ravel())\n",
    "    pred_i = knn.predict(X_test)\n",
    "    List = y_test['damage_grade'].tolist()\n",
    "    error_rate_knn_leaf.append(np.mean(pred_i != List))"
   ]
  },
  {
   "cell_type": "code",
   "execution_count": 150,
   "id": "9807a064",
   "metadata": {},
   "outputs": [
    {
     "data": {
      "text/plain": [
       "Text(0, 0.5, 'Error Rate')"
      ]
     },
     "execution_count": 150,
     "metadata": {},
     "output_type": "execute_result"
    },
    {
     "data": {
      "image/png": "[encoded data removed]",
      "text/plain": [
       "<Figure size 1440x720 with 1 Axes>"
      ]
     },
     "metadata": {
      "needs_background": "light"
     },
     "output_type": "display_data"
    }
   ],
   "source": [
    "plt.figure(figsize=(20,10))\n",
    "plt.plot(range(1,15),error_rate_knn_leaf,color='blue', linestyle='dashed', marker='o', markerfacecolor='yellow', markersize=10)\n",
    "plt.title('Error Rate vs. Leaf Size')\n",
    "plt.xlabel('Leaf Size')\n",
    "plt.ylabel('Error Rate')"
   ]
  },
  {
   "cell_type": "markdown",
   "id": "459d2162",
   "metadata": {},
   "source": [
    "#### We store the these optimal value (no. of K and Leaf Size) into search space, then we proceed to do hyperparameters tuning using GridSearch then evaluate each combination's performance metrics using Cross Validation to get the best possible values of all parameters"
   ]
  },
  {
   "cell_type": "code",
   "execution_count": 151,
   "id": "0337a8b4",
   "metadata": {},
   "outputs": [],
   "source": [
    "#Finding the value of k with the minimum error rate\n",
    "A = min(error_rate_knn)\n",
    "search_space_k = []\n",
    "\n",
    "for i in range(14):\n",
    "    if error_rate_knn[i] == A:\n",
    "        search_space_k.append(i+1)\n",
    "    else:\n",
    "        continue"
   ]
  },
  {
   "cell_type": "code",
   "execution_count": 152,
   "id": "bd7073b5",
   "metadata": {},
   "outputs": [],
   "source": [
    "#Finding the value of leaf size with the minimum error rate\n",
    "B = min(error_rate_knn_leaf)\n",
    "search_space_leaf = []\n",
    "\n",
    "for i in range(14):\n",
    "    if error_rate_knn_leaf[i] == B:\n",
    "        search_space_leaf.append(i+1)\n",
    "    else:\n",
    "        continue"
   ]
  },
  {
   "cell_type": "code",
   "execution_count": 153,
   "id": "deb28ac3",
   "metadata": {},
   "outputs": [
    {
     "name": "stdout",
     "output_type": "stream",
     "text": [
      "Fitting 5 folds for each of 24 candidates, totalling 120 fits\n"
     ]
    },
    {
     "data": {
      "text/plain": [
       "GridSearchCV(cv=5, estimator=KNeighborsClassifier(metric='euclidean'),\n",
       "             n_jobs=-1,\n",
       "             param_grid={'leaf_size': [6, 7, 8, 9, 10, 11], 'n_neighbors': [14],\n",
       "                         'p': [1, 2], 'weights': ['uniform', 'distance']},\n",
       "             verbose=1)"
      ]
     },
     "execution_count": 153,
     "metadata": {},
     "output_type": "execute_result"
    }
   ],
   "source": [
    "knn2 = KNeighborsClassifier(metric='euclidean')\n",
    "param_grid = {'n_neighbors': search_space_k, 'leaf_size': search_space_leaf, 'weights': ['uniform','distance'], 'p': [1,2]}\n",
    "knn_gscv = GridSearchCV(knn2, param_grid, cv=5, verbose=1, n_jobs=-1)\n",
    "knn_gscv.fit(X, y.values.ravel())"
   ]
  },
  {
   "cell_type": "code",
   "execution_count": 154,
   "id": "d44e0ead",
   "metadata": {},
   "outputs": [
    {
     "name": "stdout",
     "output_type": "stream",
     "text": [
      "Optimal value of nearest neighbors: 14\n",
      "Optimal value of leaf size: 7\n",
      "Optimal weights: uniform\n",
      "Optimal Distance Metric: Manhattan\n"
     ]
    }
   ],
   "source": [
    "k = knn_gscv.best_params_['n_neighbors']\n",
    "leaf = knn_gscv.best_params_['leaf_size']\n",
    "p = knn_gscv.best_params_['p']\n",
    "weight = knn_gscv.best_params_['weights']\n",
    "\n",
    "print('Optimal value of nearest neighbors:',k)\n",
    "print('Optimal value of leaf size:',leaf)\n",
    "print('Optimal weights:', weight)\n",
    "if p==1:\n",
    "    print('Optimal Distance Metric: Manhattan')\n",
    "else: \n",
    "    print('Optimal Distance Metric: Euclidean')"
   ]
  },
  {
   "cell_type": "code",
   "execution_count": 155,
   "id": "2ee9ec9c",
   "metadata": {},
   "outputs": [
    {
     "data": {
      "text/plain": [
       "KNeighborsClassifier(leaf_size=7, n_neighbors=14, p=1)"
      ]
     },
     "execution_count": 155,
     "metadata": {},
     "output_type": "execute_result"
    }
   ],
   "source": [
    "KNN = KNeighborsClassifier(n_neighbors=k, leaf_size=leaf, weights=weight, p=p)\n",
    "KNN.fit(X_train,y_train.values.ravel())"
   ]
  },
  {
   "cell_type": "markdown",
   "id": "67b0b57e",
   "metadata": {},
   "source": [
    "### Generating confusion matrix using K Nearest Neighbors model"
   ]
  },
  {
   "cell_type": "code",
   "execution_count": 156,
   "id": "a8180dc0",
   "metadata": {},
   "outputs": [
    {
     "name": "stdout",
     "output_type": "stream",
     "text": [
      "Train Dataset: K Nearest Neighbors Classification\n",
      "Classification Accuracy: 0.5587\n"
     ]
    },
    {
     "data": {
      "text/plain": [
       "Text(0.5, 15.0, 'Predicted')"
      ]
     },
     "execution_count": 156,
     "metadata": {},
     "output_type": "execute_result"
    },
    {
     "data": {
      "image/png": "[encoded data removed]",
      "text/plain": [
       "<Figure size 432x288 with 2 Axes>"
      ]
     },
     "metadata": {
      "needs_background": "light"
     },
     "output_type": "display_data"
    }
   ],
   "source": [
    "#Prediction on the train dataset\n",
    "knn_train_pred= KNN.predict(X_train)\n",
    "\n",
    "print(\"Train Dataset: K Nearest Neighbors Classification\")\n",
    "print(\"Classification Accuracy:\", KNN.score(X_train, y_train).round(4))\n",
    "\n",
    "sb.heatmap(confusion_matrix(y_train, knn_train_pred),annot = True, fmt=\".0f\", annot_kws={\"size\": 18})\n",
    "\n",
    "plt.ylabel('Actual')\n",
    "plt.xlabel('Predicted')"
   ]
  },
  {
   "cell_type": "code",
   "execution_count": 157,
   "id": "6d6cb820",
   "metadata": {},
   "outputs": [
    {
     "name": "stdout",
     "output_type": "stream",
     "text": [
      "Test Dataset: K Nearest Neighbors Classification\n",
      "Classification Accuracy: 0.5469\n"
     ]
    },
    {
     "data": {
      "text/plain": [
       "Text(0.5, 15.0, 'Predicted')"
      ]
     },
     "execution_count": 157,
     "metadata": {},
     "output_type": "execute_result"
    },
    {
     "data": {
      "image/png": "[encoded data removed]",
      "text/plain": [
       "<Figure size 432x288 with 2 Axes>"
      ]
     },
     "metadata": {
      "needs_background": "light"
     },
     "output_type": "display_data"
    }
   ],
   "source": [
    "#Prediction on the test dataset\n",
    "knn_test_pred= KNN.predict(X_test)\n",
    "\n",
    "print(\"Test Dataset: K Nearest Neighbors Classification\")\n",
    "print(\"Classification Accuracy:\", KNN.score(X_test, y_test).round(4))\n",
    "\n",
    "sb.heatmap(confusion_matrix(y_test, knn_test_pred),annot = True, fmt=\".0f\", annot_kws={\"size\": 18})\n",
    "\n",
    "plt.ylabel('Actual')\n",
    "plt.xlabel('Predicted')"
   ]
  },
  {
   "cell_type": "markdown",
   "id": "f4df1d28",
   "metadata": {},
   "source": [
    "### Classification report of KNN"
   ]
  },
  {
   "cell_type": "code",
   "execution_count": 158,
   "id": "99462287",
   "metadata": {},
   "outputs": [
    {
     "name": "stdout",
     "output_type": "stream",
     "text": [
      "Train Dataset Classification Report\n",
      "              precision    recall  f1-score   support\n",
      "\n",
      "           1       0.54      0.32      0.40     18759\n",
      "           2       0.60      0.76      0.67    110552\n",
      "           3       0.44      0.29      0.35     65097\n",
      "\n",
      "    accuracy                           0.56    194408\n",
      "   macro avg       0.53      0.45      0.47    194408\n",
      "weighted avg       0.54      0.56      0.53    194408\n",
      "\n"
     ]
    }
   ],
   "source": [
    "from sklearn.metrics import classification_report\n",
    "print('Train Dataset Classification Report')\n",
    "print(classification_report(y_train, knn_train_pred))"
   ]
  },
  {
   "cell_type": "code",
   "execution_count": 159,
   "id": "cfb8f82d",
   "metadata": {},
   "outputs": [
    {
     "name": "stdout",
     "output_type": "stream",
     "text": [
      "Test Dataset Classification Report\n",
      "              precision    recall  f1-score   support\n",
      "\n",
      "           1       0.50      0.29      0.37      6186\n",
      "           2       0.59      0.75      0.66     36885\n",
      "           3       0.42      0.28      0.33     21732\n",
      "\n",
      "    accuracy                           0.55     64803\n",
      "   macro avg       0.50      0.44      0.45     64803\n",
      "weighted avg       0.52      0.55      0.52     64803\n",
      "\n"
     ]
    }
   ],
   "source": [
    "print('Test Dataset Classification Report')\n",
    "print(classification_report(y_test, knn_test_pred))"
   ]
  },
  {
   "cell_type": "markdown",
   "id": "8007e2f6",
   "metadata": {},
   "source": [
    "### Feature Importance in KNN model using Cross Validation"
   ]
  },
  {
   "cell_type": "code",
   "execution_count": 160,
   "id": "0a5c570a",
   "metadata": {},
   "outputs": [
    {
     "name": "stdout",
     "output_type": "stream",
     "text": [
      "K Nearest Neighbors Feature Importances\n",
      "age : 0.5175\n",
      "count_floors_pre_eq : 0.4976\n",
      "height_percentage : 0.5566\n",
      "foundation_type_fact : 0.4393\n",
      "roof_type_fact : 0.402\n",
      "ground_floor_type_fact : 0.4017\n",
      "land_surface_condition_fact : 0.443\n"
     ]
    }
   ],
   "source": [
    "from sklearn.model_selection import cross_val_score\n",
    "\n",
    "n_feats = X.shape[1]\n",
    "score = []\n",
    "features = ['age',\n",
    "                             'count_floors_pre_eq',\n",
    "                             'height_percentage',\n",
    "                             'foundation_type_fact',\n",
    "                             'roof_type_fact',\n",
    "                             'ground_floor_type_fact',\n",
    "                             'land_surface_condition_fact']\n",
    "\n",
    "print('K Nearest Neighbors Feature Importances')\n",
    "for i in range(n_feats):\n",
    "    x =  X.values[:, i].reshape(-1, 1)\n",
    "    scores = cross_val_score(KNN, x, y.values.ravel(), cv=3)\n",
    "    print(features[i],':',scores.mean().round(4))\n",
    "    score.append(scores.mean().round(4))"
   ]
  },
  {
   "cell_type": "code",
   "execution_count": 161,
   "id": "73a78e1e",
   "metadata": {},
   "outputs": [
    {
     "data": {
      "text/plain": [
       "<AxesSubplot:ylabel='Features'>"
      ]
     },
     "execution_count": 161,
     "metadata": {},
     "output_type": "execute_result"
    },
    {
     "data": {
      "image/png": "[encoded data removed]",
      "text/plain": [
       "<Figure size 432x288 with 1 Axes>"
      ]
     },
     "metadata": {
      "needs_background": "light"
     },
     "output_type": "display_data"
    }
   ],
   "source": [
    "cross_val_data = {'Features': ['age',\n",
    "                             'count_floors_pre_eq',\n",
    "                             'height_percentage',\n",
    "                             'foundation_type_fact',\n",
    "                             'roof_type_fact',\n",
    "                             'ground_floor_type_fact',\n",
    "                             'land_surface_condition_fact'], 'Scores': score}\n",
    "feature_data = pd.DataFrame(cross_val_data)\n",
    "feat = feature_data.sort_values('Scores')\n",
    "\n",
    "feat.plot(kind='barh',y='Scores',x='Features',color='b')"
   ]
  },
  {
   "cell_type": "markdown",
   "id": "b6c634e7",
   "metadata": {},
   "source": [
    "# Importing Random Forest and using it to predict damage grade"
   ]
  },
  {
   "cell_type": "code",
   "execution_count": 162,
   "id": "cf2ea788",
   "metadata": {},
   "outputs": [],
   "source": [
    "from sklearn.ensemble import RandomForestClassifier\n",
    "\n",
    "# Instantiate model with 500 decision trees\n",
    "rf = RandomForestClassifier(n_estimators = 500, random_state = 22)\n",
    "# Train the model on training data  \n",
    "rf_model = rf.fit(X_train, y_train)\n",
    "\n",
    "importance = rf_model.feature_importances_\n",
    "\n",
    "# Use the forest's predict method on the test data\n",
    "rf_test = rf_model.predict(X_test)"
   ]
  },
  {
   "cell_type": "markdown",
   "id": "d1672bda",
   "metadata": {},
   "source": [
    "### Generating Confusion Matrix Using Random Forest Model"
   ]
  },
  {
   "cell_type": "code",
   "execution_count": 163,
   "id": "17bc9097",
   "metadata": {},
   "outputs": [],
   "source": [
    "y_pred = pd.DataFrame(rf_test)\n",
    "\n",
    "# Damage Grade 1\n",
    "y_test_1 = y_test.copy() \n",
    "y_test_1 = y_test_1.applymap(lambda x: 1 if x == 1 else 0)\n",
    "y_pred_1 = y_pred.copy()\n",
    "y_pred_1 = y_pred_1.applymap(lambda x: 1 if x == 1 else 0)\n",
    "\n",
    "# Damage Grade 2\n",
    "y_test_2 = y_test.copy() \n",
    "y_test_2 = y_test_2.applymap(lambda x: 1 if x == 2 else 0)\n",
    "y_pred_2 = y_pred.copy()\n",
    "y_pred_2 = y_pred_2.applymap(lambda x: 1 if x == 2 else 0)\n",
    "\n",
    "# Damage Grade 3\n",
    "y_test_3 = y_test.copy() \n",
    "y_test_3 = y_test_3.applymap(lambda x: 1 if x == 3 else 0)\n",
    "y_pred_3 = y_pred.copy()\n",
    "y_pred_3 = y_pred_3.applymap(lambda x: 1 if x == 3 else 0)"
   ]
  },
  {
   "cell_type": "code",
   "execution_count": 164,
   "id": "6f7c7b2a",
   "metadata": {},
   "outputs": [
    {
     "name": "stdout",
     "output_type": "stream",
     "text": [
      "True Positive Rate: 0.5394\n",
      "False Positive Rate: 0.4606\n",
      "True Negative Rate: 0.9298\n",
      "False Negative Rate: 0.0702\n"
     ]
    },
    {
     "data": {
      "text/plain": [
       "Text(0.5, 15.0, 'Predicted')"
      ]
     },
     "execution_count": 164,
     "metadata": {},
     "output_type": "execute_result"
    },
    {
     "data": {
      "image/png": "[encoded data removed]",
      "text/plain": [
       "<Figure size 432x288 with 2 Axes>"
      ]
     },
     "metadata": {
      "needs_background": "light"
     },
     "output_type": "display_data"
    }
   ],
   "source": [
    "# Damage Grade 1\n",
    "sb.heatmap(confusion_matrix(y_test_1, y_pred_1),\n",
    "           annot = True, fmt=\".0f\", annot_kws={\"size\": 18})\n",
    "\n",
    "tn, fp, fn, tp = confusion_matrix(y_test_1, y_pred_1).ravel()\n",
    "\n",
    "print(\"True Positive Rate:\", (tp/(tp+fp)).round(4))\n",
    "print(\"False Positive Rate:\", (fp/(tp+fp)).round(4))\n",
    "print(\"True Negative Rate:\", (tn/(tn+fn)).round(4))\n",
    "print(\"False Negative Rate:\", (fn/(tn+fn)).round(4))\n",
    "\n",
    "plt.ylabel('Actual')\n",
    "plt.xlabel('Predicted')"
   ]
  },
  {
   "cell_type": "code",
   "execution_count": 165,
   "id": "68ecde06",
   "metadata": {},
   "outputs": [
    {
     "name": "stdout",
     "output_type": "stream",
     "text": [
      "True Positive Rate: 0.5918\n",
      "False Positive Rate: 0.4082\n",
      "True Negative Rate: 0.5335\n",
      "False Negative Rate: 0.4665\n"
     ]
    },
    {
     "data": {
      "text/plain": [
       "Text(0.5, 15.0, 'Predicted')"
      ]
     },
     "execution_count": 165,
     "metadata": {},
     "output_type": "execute_result"
    },
    {
     "data": {
      "image/png": "[encoded data removed]",
      "text/plain": [
       "<Figure size 432x288 with 2 Axes>"
      ]
     },
     "metadata": {
      "needs_background": "light"
     },
     "output_type": "display_data"
    }
   ],
   "source": [
    "# Damage Grade 2\n",
    "sb.heatmap(confusion_matrix(y_test_2, y_pred_2),\n",
    "           annot = True, fmt=\".0f\", annot_kws={\"size\": 18})\n",
    "\n",
    "tn, fp, fn, tp = confusion_matrix(y_test_2, y_pred_2).ravel()\n",
    "\n",
    "print(\"True Positive Rate:\", (tp/(tp+fp)).round(4))\n",
    "print(\"False Positive Rate:\", (fp/(tp+fp)).round(4))\n",
    "print(\"True Negative Rate:\", (tn/(tn+fn)).round(4))\n",
    "print(\"False Negative Rate:\", (fn/(tn+fn)).round(4))\n",
    "\n",
    "plt.ylabel('Actual')\n",
    "plt.xlabel('Predicted')"
   ]
  },
  {
   "cell_type": "code",
   "execution_count": 166,
   "id": "1907a7ce",
   "metadata": {},
   "outputs": [
    {
     "name": "stdout",
     "output_type": "stream",
     "text": [
      "True Positive Rate: 0.4864\n",
      "False Positive Rate: 0.5136\n",
      "True Negative Rate: 0.6866\n",
      "False Negative Rate: 0.3134\n"
     ]
    },
    {
     "data": {
      "text/plain": [
       "Text(0.5, 15.0, 'Predicted')"
      ]
     },
     "execution_count": 166,
     "metadata": {},
     "output_type": "execute_result"
    },
    {
     "data": {
      "image/png": "[encoded data removed]",
      "text/plain": [
       "<Figure size 432x288 with 2 Axes>"
      ]
     },
     "metadata": {
      "needs_background": "light"
     },
     "output_type": "display_data"
    }
   ],
   "source": [
    "# Damage Grade 3\n",
    "sb.heatmap(confusion_matrix(y_test_3, y_pred_3),\n",
    "           annot = True, fmt=\".0f\", annot_kws={\"size\": 18})\n",
    "\n",
    "tn, fp, fn, tp = confusion_matrix(y_test_3, y_pred_3).ravel()\n",
    "\n",
    "print(\"True Positive Rate:\", (tp/(tp+fp)).round(4))\n",
    "print(\"False Positive Rate:\", (fp/(tp+fp)).round(4))\n",
    "print(\"True Negative Rate:\", (tn/(tn+fn)).round(4))\n",
    "print(\"False Negative Rate:\", (fn/(tn+fn)).round(4))\n",
    "\n",
    "plt.ylabel('Actual')\n",
    "plt.xlabel('Predicted')"
   ]
  },
  {
   "cell_type": "markdown",
   "id": "81d07585",
   "metadata": {},
   "source": [
    "### Classification Report of Random Forest Model on Test Data"
   ]
  },
  {
   "cell_type": "code",
   "execution_count": 170,
   "id": "285d0a39",
   "metadata": {},
   "outputs": [
    {
     "name": "stdout",
     "output_type": "stream",
     "text": [
      "Test Dataset Classification Report\n",
      "Classification Accuracy: 0.5756\n",
      "              precision    recall  f1-score   support\n",
      "\n",
      "           1       0.54      0.30      0.39      6186\n",
      "           2       0.59      0.85      0.70     36885\n",
      "           3       0.49      0.18      0.27     21732\n",
      "\n",
      "    accuracy                           0.58     64803\n",
      "   macro avg       0.54      0.45      0.45     64803\n",
      "weighted avg       0.55      0.58      0.52     64803\n",
      "\n"
     ]
    }
   ],
   "source": [
    "print('Test Dataset Classification Report')\n",
    "print(\"Classification Accuracy:\", rf.score(X_test, y_test).round(4))\n",
    "print(classification_report(y_test, rf_test))"
   ]
  },
  {
   "cell_type": "markdown",
   "id": "3657eca3",
   "metadata": {},
   "source": [
    "### Feature Importance in Random Forest Model"
   ]
  },
  {
   "cell_type": "code",
   "execution_count": 168,
   "id": "cf4bd2fd",
   "metadata": {},
   "outputs": [
    {
     "name": "stdout",
     "output_type": "stream",
     "text": [
      "Random Forest Features Importances\n",
      "age: 0.2618\n",
      "count_floors_pre_eq: 0.0921\n",
      "height_percentage: 0.1586\n",
      "foundation_type_fact: 0.1823\n",
      "ground_floor_type_fact: 0.1056\n",
      "land_surface_condition_fact: 0.1056\n"
     ]
    }
   ],
   "source": [
    "print('Random Forest Features Importances')\n",
    "print(\"age:\" ,importance[0].round(4))\n",
    "print(\"count_floors_pre_eq:\" ,importance[1].round(4))\n",
    "print(\"height_percentage:\" ,importance[2].round(4))\n",
    "print(\"foundation_type_fact:\" ,importance[3].round(4))\n",
    "print(\"ground_floor_type_fact:\" ,importance[4].round(4))\n",
    "print(\"land_surface_condition_fact:\" ,importance[4].round(4))"
   ]
  },
  {
   "cell_type": "code",
   "execution_count": 169,
   "id": "fb2b0ca8",
   "metadata": {},
   "outputs": [
    {
     "data": {
      "image/png": "[encoded data removed]",
      "text/plain": [
       "<Figure size 720x360 with 1 Axes>"
      ]
     },
     "metadata": {
      "needs_background": "light"
     },
     "output_type": "display_data"
    },
    {
     "data": {
      "text/plain": [
       "<Figure size 360x360 with 0 Axes>"
      ]
     },
     "metadata": {},
     "output_type": "display_data"
    }
   ],
   "source": [
    "column = ['age',\n",
    "     'count_floors_pre_eq',  \n",
    "     'height_percentage',                             \n",
    "     'foundation_type_fact',                         \n",
    "     'roof_type_fact', \n",
    "     'ground_floor_type_fact',\n",
    "     'land_surface_condition_fact']\n",
    "sort_idx = np.argsort(importance)\n",
    "sorted_column = []\n",
    "for i in range(7):\n",
    "    sorted_column.append(column[sort_idx[i]])    \n",
    "ind = np.arange(sort_idx.shape[0]) + .5\n",
    "# Plot the graph of feature of importance\n",
    "fig, ax = plt.subplots() \n",
    "width = 0.5  \n",
    "ax.barh(ind, importance[sort_idx], width)\n",
    "ax.set_yticks(ind+width/10)\n",
    "ax.set_yticklabels(sorted_column, minor=False)\n",
    "plt.title('Feature importance in Random Forest Classifier')\n",
    "plt.xlabel('Relative importance')\n",
    "plt.figure(figsize=(5,5))\n",
    "fig.set_size_inches(10, 5, forward=True)"
   ]
  },
  {
   "cell_type": "markdown",
   "id": "c442d08e",
   "metadata": {},
   "source": [
    "#### Based on our model we can see that age is a very important parameter to predict a damage grade of a given building"
   ]
  },
  {
   "cell_type": "code",
   "execution_count": null,
   "id": "2bb649fb",
   "metadata": {},
   "outputs": [],
   "source": []
  }
 ],
 "metadata": {
  "kernelspec": {
   "display_name": "Python 3 (ipykernel)",
   "language": "python",
   "name": "python3"
  },
  "language_info": {
   "codemirror_mode": {
    "name": "ipython",
    "version": 3
   },
   "file_extension": ".py",
   "mimetype": "text/x-python",
   "name": "python",
   "nbconvert_exporter": "python",
   "pygments_lexer": "ipython3",
   "version": "3.9.7"
  }
 },
 "nbformat": 4,
 "nbformat_minor": 5
}
